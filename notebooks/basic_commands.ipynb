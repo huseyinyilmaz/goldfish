{
 "cells": [
  {
   "cell_type": "markdown",
   "id": "7f828748-ee2f-4829-8356-a4d7309a950e",
   "metadata": {},
   "source": [
    "## import pymemcache library"
   ]
  },
  {
   "cell_type": "code",
   "execution_count": 1,
   "id": "4268eb36-3bc1-4216-9b44-6160829607d2",
   "metadata": {},
   "outputs": [],
   "source": [
    "import time\n",
    "from pymemcache.client.base import Client\n",
    "from datetime import datetime"
   ]
  },
  {
   "cell_type": "markdown",
   "id": "f89098e3-5b09-4a5d-b7b8-501ac367eb1a",
   "metadata": {},
   "source": [
    "## initialize client"
   ]
  },
  {
   "cell_type": "code",
   "execution_count": 2,
   "id": "0764d384-37bd-4590-a7e8-51be12ebb6f2",
   "metadata": {},
   "outputs": [],
   "source": [
    "client = Client('localhost')"
   ]
  },
  {
   "cell_type": "markdown",
   "id": "3d0bf6eb-8ae7-4e72-b65f-5edee6051637",
   "metadata": {},
   "source": [
    "## test client.version command\n",
    "\n",
    "This command sends b\"version\\r\\n\" command.\n",
    "\n",
    "Original memcache returned following:\n",
    "b\"VERSION 1.6.36\"\n",
    "client.version() parsed it as:\n",
    "b'1.6.36'\n",
    "And Goldfish will return b'VERSION Goldfish 1.0'"
   ]
  },
  {
   "cell_type": "code",
   "execution_count": 3,
   "id": "a0d9ab2f-d046-4d96-868a-0ea03cca60b9",
   "metadata": {},
   "outputs": [
    {
     "data": {
      "text/plain": [
       "b'Goldfish 1.0'"
      ]
     },
     "execution_count": 3,
     "metadata": {},
     "output_type": "execute_result"
    }
   ],
   "source": [
    "version = client.version()\n",
    "assert version.decode('utf-8').startswith('Goldfish'), \"does not return the version in right format\"\n",
    "version"
   ]
  },
  {
   "cell_type": "code",
   "execution_count": null,
   "id": "d77ab30f-b330-4a10-9ed5-81c5caf5cef9",
   "metadata": {},
   "outputs": [],
   "source": []
  },
  {
   "cell_type": "markdown",
   "id": "b08fa1c8-96e5-49ca-a089-95226a8e1647",
   "metadata": {},
   "source": [
    "## client.set and client get commands\n",
    "\n"
   ]
  },
  {
   "cell_type": "code",
   "execution_count": 4,
   "id": "6f898c7c-8634-40b1-adcb-2cf3fd629012",
   "metadata": {},
   "outputs": [],
   "source": [
    "# First lets test the simple usecase"
   ]
  },
  {
   "cell_type": "code",
   "execution_count": 5,
   "id": "24a29f6a-e7b7-4352-87a1-6df0ea39f55f",
   "metadata": {},
   "outputs": [
    {
     "data": {
      "text/plain": [
       "b'value1'"
      ]
     },
     "execution_count": 5,
     "metadata": {},
     "output_type": "execute_result"
    }
   ],
   "source": [
    "key = 'key1'\n",
    "value = 'value1'\n",
    "client.set(key, value)\n",
    "server_value = client.get(key)\n",
    "assert server_value.decode('utf-8') == value , \"server returned a different error than expected\"\n",
    "server_value"
   ]
  },
  {
   "cell_type": "code",
   "execution_count": 6,
   "id": "5be72656-14b9-4155-9fcb-fce70752c168",
   "metadata": {},
   "outputs": [],
   "source": [
    "# Now we try the same call with noreply=False and flag values"
   ]
  },
  {
   "cell_type": "code",
   "execution_count": 7,
   "id": "ccf8c74f-eb62-43c0-9279-ca984c8e4f7b",
   "metadata": {},
   "outputs": [
    {
     "data": {
      "text/plain": [
       "b'value2'"
      ]
     },
     "execution_count": 7,
     "metadata": {},
     "output_type": "execute_result"
    }
   ],
   "source": [
    "key = 'key2'\n",
    "value = 'value2'\n",
    "client.set(key, value, noreply=False, flags=1)\n",
    "server_value = client.get(key)\n",
    "assert server_value.decode('utf-8') == value , \"server returned a different error than expected\"\n",
    "server_value"
   ]
  },
  {
   "cell_type": "code",
   "execution_count": 8,
   "id": "a0de2769-fa76-4129-802d-72b8ea231a58",
   "metadata": {},
   "outputs": [],
   "source": [
    "# Now lets test what happens when we set expiration"
   ]
  },
  {
   "cell_type": "code",
   "execution_count": 11,
   "id": "158b1188-6f3f-4d91-8d55-469dd085bd00",
   "metadata": {},
   "outputs": [
    {
     "name": "stdout",
     "output_type": "stream",
     "text": [
      "server value before expiration = b'value3'\n",
      "server value after expiration  = None\n"
     ]
    }
   ],
   "source": [
    "key = 'key3'\n",
    "value = 'value3'\n",
    "client.set(key, value, noreply=False, flags=1, expire=1)\n",
    "server_value = client.get(key)\n",
    "assert server_value.decode('utf-8') == value , \"server returned a different error than expected\"\n",
    "time.sleep(1)\n",
    "server_value2 = client.get(key)\n",
    "assert server_value2 is None, \"Value did not expired\"\n",
    "print(f'server value before expiration = {server_value}')\n",
    "print(f'server value after expiration  = {server_value2}')"
   ]
  },
  {
   "cell_type": "code",
   "execution_count": null,
   "id": "fafc1395-4656-4d9a-9b00-12c506f530f5",
   "metadata": {},
   "outputs": [],
   "source": []
  },
  {
   "cell_type": "code",
   "execution_count": 9,
   "id": "7bc97cfe-9489-4e37-8d86-a6ab2f5bd227",
   "metadata": {},
   "outputs": [],
   "source": [
    "# Lastly I want to try sending 100000 key, value pairs to get the server underload"
   ]
  },
  {
   "cell_type": "code",
   "execution_count": 12,
   "id": "83efcc3a-3e54-4a34-a6cb-8128062dd3b3",
   "metadata": {},
   "outputs": [],
   "source": [
    "value_count = 100000\n",
    "def load_test(enable_print=False):\n",
    "    enable_print and print('starting to enter values', datetime.now())\n",
    "    for i in range(value_count):\n",
    "        key = f'key{i}'\n",
    "        value = f'value{i}'\n",
    "        client.set(key, value)\n",
    "    enable_print and print('value_entry is complete. starting to check the values returning from server', datetime.now())\n",
    "    for i in range(value_count):\n",
    "        enable_print and print(i)\n",
    "        key = f'key{i}'\n",
    "        value = f'value{i}'\n",
    "        enable_print and print('precall')\n",
    "        server_value = client.get(key)\n",
    "        enable_print and print('postcall', server_value)\n",
    "        assert value == server_value.decode('utf8')\n",
    "    enable_print and print('test is complete', datetime.now())"
   ]
  },
  {
   "cell_type": "code",
   "execution_count": 16,
   "id": "3b20223b-7d8f-4163-86cf-18c2cf21c982",
   "metadata": {},
   "outputs": [
    {
     "name": "stdout",
     "output_type": "stream",
     "text": [
      "CPU times: user 5.31 s, sys: 3.46 s, total: 8.77 s\n",
      "Wall time: 43.2 s\n"
     ]
    }
   ],
   "source": [
    "# This is goldfish load test\n",
    "client = Client('localhost')\n",
    "value_count = 100000\n",
    "%time load_test()"
   ]
  },
  {
   "cell_type": "code",
   "execution_count": null,
   "id": "66c3e723-092b-46ae-9c13-4e696914fcc3",
   "metadata": {},
   "outputs": [],
   "source": []
  },
  {
   "cell_type": "code",
   "execution_count": 15,
   "id": "b2f8e6a1-c8b0-4457-a85f-b61decb8099c",
   "metadata": {},
   "outputs": [
    {
     "name": "stdout",
     "output_type": "stream",
     "text": [
      "CPU times: user 3.25 s, sys: 2.05 s, total: 5.29 s\n",
      "Wall time: 10.7 s\n"
     ]
    }
   ],
   "source": [
    "# This is original memcached load test\n",
    "client = Client('localhost')\n",
    "value_count = 100000\n",
    "%time load_test()"
   ]
  },
  {
   "cell_type": "code",
   "execution_count": null,
   "id": "1a6e31d1-8a8e-4793-bd77-a31e0a3e45ac",
   "metadata": {},
   "outputs": [],
   "source": []
  },
  {
   "cell_type": "code",
   "execution_count": 17,
   "id": "a8bf0ac7-ba96-4fe6-9ace-f57eef54b24d",
   "metadata": {},
   "outputs": [],
   "source": [
    "# It seems like goldfish is curently 4 times slower than original memcached."
   ]
  },
  {
   "cell_type": "code",
   "execution_count": null,
   "id": "b53e9eeb-7278-47f9-917a-c8ea50d28e9d",
   "metadata": {},
   "outputs": [],
   "source": []
  },
  {
   "cell_type": "markdown",
   "id": "c8079d17-5488-4b50-a2e9-0761994a894d",
   "metadata": {},
   "source": [
    "## test client.quit command\n",
    "\n",
    "This command breakes the tcp connection with the server.\n",
    "client.quit() does not give any feedback"
   ]
  },
  {
   "cell_type": "code",
   "execution_count": 18,
   "id": "23882cfa-4ece-4485-aa0e-bb8df4c31ae0",
   "metadata": {},
   "outputs": [],
   "source": [
    "client.quit()"
   ]
  },
  {
   "cell_type": "code",
   "execution_count": null,
   "id": "f4c74762-076d-4907-aab1-5d168f36fef0",
   "metadata": {},
   "outputs": [],
   "source": []
  },
  {
   "cell_type": "code",
   "execution_count": null,
   "id": "bdfca02c-6e28-42c7-8770-3c0a434514b1",
   "metadata": {},
   "outputs": [],
   "source": []
  },
  {
   "cell_type": "code",
   "execution_count": null,
   "id": "054514af-f790-465d-a329-14945a0eee4b",
   "metadata": {},
   "outputs": [],
   "source": []
  },
  {
   "cell_type": "code",
   "execution_count": null,
   "id": "79c4da9c-6baa-4009-84dd-ab7cde180e24",
   "metadata": {},
   "outputs": [],
   "source": []
  },
  {
   "cell_type": "code",
   "execution_count": null,
   "id": "5157bb13-e0fa-4104-babf-f99484f0e952",
   "metadata": {},
   "outputs": [],
   "source": []
  },
  {
   "cell_type": "code",
   "execution_count": null,
   "id": "37b67444-b6f9-4c7d-95fa-7f8bcfd7e66b",
   "metadata": {},
   "outputs": [],
   "source": []
  },
  {
   "cell_type": "code",
   "execution_count": null,
   "id": "f40fb4d7-570a-4c8e-b606-905b39779673",
   "metadata": {},
   "outputs": [],
   "source": []
  },
  {
   "cell_type": "code",
   "execution_count": null,
   "id": "1ad18f5a-e1c6-4b12-b539-abfe5a316447",
   "metadata": {},
   "outputs": [],
   "source": []
  },
  {
   "cell_type": "code",
   "execution_count": null,
   "id": "e56798eb-e58c-49ed-9fcd-8de2232983aa",
   "metadata": {},
   "outputs": [],
   "source": []
  }
 ],
 "metadata": {
  "kernelspec": {
   "display_name": "Python 3 (ipykernel)",
   "language": "python",
   "name": "python3"
  },
  "language_info": {
   "codemirror_mode": {
    "name": "ipython",
    "version": 3
   },
   "file_extension": ".py",
   "mimetype": "text/x-python",
   "name": "python",
   "nbconvert_exporter": "python",
   "pygments_lexer": "ipython3",
   "version": "3.13.1"
  }
 },
 "nbformat": 4,
 "nbformat_minor": 5
}
